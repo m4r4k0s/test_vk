{
 "cells": [
  {
   "cell_type": "code",
   "execution_count": 15,
   "id": "f40c70e0-09b9-4727-bb7f-21ea64c52785",
   "metadata": {},
   "outputs": [],
   "source": [
    "from sklearn.datasets import load_iris \n",
    "from sklearn.preprocessing import StandardScaler \n",
    "from sklearn.model_selection import train_test_split\n",
    "from sklearn.ensemble import GradientBoostingClassifier\n",
    "\n",
    "\n",
    "\n"
   ]
  },
  {
   "cell_type": "code",
   "execution_count": 7,
   "id": "0ef1d5d8-d8ff-4c3f-b6bf-cf5b8e50c4f5",
   "metadata": {},
   "outputs": [],
   "source": [
    "dataset = load_iris() \n",
    "object= StandardScaler()  \n",
    "i_data = dataset.data \n",
    "response = dataset.target \n",
    "scale = object.fit_transform(i_data)"
   ]
  },
  {
   "cell_type": "code",
   "execution_count": 8,
   "id": "4a67704d-da63-4b98-b3f9-f26add87fad5",
   "metadata": {},
   "outputs": [
    {
     "name": "stdout",
     "output_type": "stream",
     "text": [
      "(150, 4) (150,)\n"
     ]
    }
   ],
   "source": [
    "print(scale.shape,response.shape)"
   ]
  },
  {
   "cell_type": "code",
   "execution_count": 9,
   "id": "f16f9e92-cc57-4f6d-b024-605ff99ef189",
   "metadata": {},
   "outputs": [
    {
     "data": {
      "text/plain": [
       "GradientBoostingClassifier()"
      ]
     },
     "execution_count": 9,
     "metadata": {},
     "output_type": "execute_result"
    }
   ],
   "source": [
    "model = GradientBoostingClassifier()\n",
    "model.fit(scale, response)"
   ]
  },
  {
   "cell_type": "code",
   "execution_count": 10,
   "id": "a3713a91-e581-41f5-97ed-893860a6e273",
   "metadata": {},
   "outputs": [
    {
     "name": "stdout",
     "output_type": "stream",
     "text": [
      "Prediction: 2\n"
     ]
    }
   ],
   "source": [
    "row = [[2.56999479, -0.13019997, 3.16075093, -4.35936352]]\n",
    "prediction = model.predict(row)\n",
    "print('Prediction: %d' % prediction[0])"
   ]
  },
  {
   "cell_type": "code",
   "execution_count": 16,
   "id": "4342ca85-b35c-4f50-bbfe-e749bfa13917",
   "metadata": {},
   "outputs": [],
   "source": [
    "X_train, X_test, y_train, y_test = train_test_split(scale, response, train_size=0.67, random_state=42)"
   ]
  },
  {
   "cell_type": "code",
   "execution_count": 17,
   "id": "2aa1badc-2972-4816-ab87-1a9d8387bf92",
   "metadata": {},
   "outputs": [
    {
     "data": {
      "text/plain": [
       "GradientBoostingClassifier()"
      ]
     },
     "execution_count": 17,
     "metadata": {},
     "output_type": "execute_result"
    }
   ],
   "source": [
    "model_1 = GradientBoostingClassifier()\n",
    "model_1.fit(X_train, y_train)"
   ]
  },
  {
   "cell_type": "code",
   "execution_count": null,
   "id": "e7547fcb-a19d-4b5f-ace0-819813ea20df",
   "metadata": {},
   "outputs": [],
   "source": [
    "print(model_1"
   ]
  }
 ],
 "metadata": {
  "kernelspec": {
   "display_name": "Python 3 (ipykernel)",
   "language": "python",
   "name": "python3"
  },
  "language_info": {
   "codemirror_mode": {
    "name": "ipython",
    "version": 3
   },
   "file_extension": ".py",
   "mimetype": "text/x-python",
   "name": "python",
   "nbconvert_exporter": "python",
   "pygments_lexer": "ipython3",
   "version": "3.9.7"
  }
 },
 "nbformat": 4,
 "nbformat_minor": 5
}
